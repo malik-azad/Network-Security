{
 "cells": [
  {
   "cell_type": "code",
   "execution_count": 15,
   "id": "ffbacc57-ac34-4cff-b609-aad634567559",
   "metadata": {},
   "outputs": [],
   "source": [
    "def  print_text(pt, ip):\n",
    "    ct = []\n",
    "    for i in ip:\n",
    "        ct.append(pt[i])\n",
    "        \n",
    "    return \"\".join(ct)"
   ]
  },
  {
   "cell_type": "code",
   "execution_count": 22,
   "id": "6d3de96c-1fc2-4540-a4c1-47d9a4246d9f",
   "metadata": {},
   "outputs": [
    {
     "name": "stdout",
     "output_type": "stream",
     "text": [
      "64\n"
     ]
    }
   ],
   "source": [
    "plain_text = '1010101010101010101010101010101010101010101010101010101010101010'\n",
    "print(len(plain_text))"
   ]
  },
  {
   "cell_type": "code",
   "execution_count": 18,
   "id": "14b7c5f4-9d80-4fa0-ac89-172313d969b7",
   "metadata": {},
   "outputs": [],
   "source": [
    "ip =           [58, 50, 42, 34, 26, 18, 10, 2,\n",
    "                60, 52, 44, 36, 28, 20, 12, 4,\n",
    "                62, 54, 46, 38, 30, 22, 14, 6,\n",
    "                64, 56, 48, 40, 32, 24, 16, 8,\n",
    "                57, 49, 41, 33, 25, 17, 9, 1,\n",
    "                59, 51, 43, 35, 27, 19, 11, 3,\n",
    "                61, 53, 45, 37, 29, 21, 13, 5,\n",
    "                63, 55, 47, 39, 31, 23, 15, 7]"
   ]
  },
  {
   "cell_type": "code",
   "execution_count": 19,
   "id": "9695ad88-5d6c-4353-b6ef-f02020aa8a90",
   "metadata": {},
   "outputs": [],
   "source": [
    "initial_permutation=[]\n",
    "for i in range(0,64):\n",
    "   initial_permutation.append(ip[i]-1)"
   ]
  },
  {
   "cell_type": "code",
   "execution_count": 23,
   "id": "a70794f6-423d-47ea-a282-8a1da23e6412",
   "metadata": {},
   "outputs": [
    {
     "name": "stdout",
     "output_type": "stream",
     "text": [
      "[57, 49, 41, 33, 25, 17, 9, 1, 59, 51, 43, 35, 27, 19, 11, 3, 61, 53, 45, 37, 29, 21, 13, 5, 63, 55, 47, 39, 31, 23, 15, 7, 56, 48, 40, 32, 24, 16, 8, 0, 58, 50, 42, 34, 26, 18, 10, 2, 60, 52, 44, 36, 28, 20, 12, 4, 62, 54, 46, 38, 30, 22, 14, 6]\n"
     ]
    }
   ],
   "source": [
    "print(initial_permutation)"
   ]
  },
  {
   "cell_type": "code",
   "execution_count": 24,
   "id": "a30c34f9-8843-4ce1-8e61-874762c9f4fa",
   "metadata": {},
   "outputs": [
    {
     "data": {
      "text/plain": [
       "64"
      ]
     },
     "execution_count": 24,
     "metadata": {},
     "output_type": "execute_result"
    }
   ],
   "source": [
    "len(initial_permutation)"
   ]
  },
  {
   "cell_type": "code",
   "execution_count": 25,
   "id": "a4f8a7ce-a1ad-4988-9795-5ee3621f28fc",
   "metadata": {},
   "outputs": [
    {
     "name": "stdout",
     "output_type": "stream",
     "text": [
      "Initial permutation text : 0000000000000000000000000000000011111111111111111111111111111111\n",
      "64\n"
     ]
    }
   ],
   "source": [
    "ct = print_text(plain_text,initial_permutation)\n",
    "print(f\"Initial permutation text : {ct}\")\n",
    "print(len(ct))"
   ]
  },
  {
   "cell_type": "code",
   "execution_count": 10,
   "id": "77858112-49fc-4c44-90f7-973f096b79bf",
   "metadata": {},
   "outputs": [],
   "source": [
    "# final permutation code "
   ]
  },
  {
   "cell_type": "code",
   "execution_count": 11,
   "id": "630b1073-65ae-4752-a917-4ff267269fea",
   "metadata": {},
   "outputs": [],
   "source": [
    "fp =         [40, 8, 48, 16, 56, 24, 64, 32,\n",
    "              39, 7, 47, 15, 55, 23, 63, 31,\n",
    "              38, 6, 46, 14, 54, 22, 62, 30,\n",
    "              37, 5, 45, 13, 53, 21, 61, 29,\n",
    "              36, 4, 44, 12, 52, 20, 60, 28,\n",
    "              35, 3, 43, 11, 51, 19, 59, 27,\n",
    "              34, 2, 42, 10, 50, 18, 58, 26,\n",
    "              33, 1, 41, 9, 49, 17, 57, 25]"
   ]
  },
  {
   "cell_type": "code",
   "execution_count": 26,
   "id": "6f4f0270-a8ad-43e8-813b-503fda14b05c",
   "metadata": {},
   "outputs": [
    {
     "data": {
      "text/plain": [
       "64"
      ]
     },
     "execution_count": 26,
     "metadata": {},
     "output_type": "execute_result"
    }
   ],
   "source": [
    "final_permutation=[]\n",
    "for i in range(0,64):\n",
    "   final_permutation.append(fp[i]-1)\n",
    "len(final_permutation)"
   ]
  },
  {
   "cell_type": "code",
   "execution_count": 28,
   "id": "844f409c-095c-4f1e-bde2-b5a37b250d84",
   "metadata": {},
   "outputs": [
    {
     "name": "stdout",
     "output_type": "stream",
     "text": [
      "64\n",
      "Final Permutation after inverse : 1010101010101010101010101010101010101010101010101010101010101010\n"
     ]
    }
   ],
   "source": [
    "cipherText = print_text(ct,final_permutation)\n",
    "print(len(cipherText))\n",
    "print(f\"Final Permutation after inverse : {cipherText}\")"
   ]
  },
  {
   "cell_type": "code",
   "execution_count": null,
   "id": "23857f48-73ba-411d-9048-08b0ac1931e5",
   "metadata": {},
   "outputs": [],
   "source": []
  }
 ],
 "metadata": {
  "kernelspec": {
   "display_name": "Python 3 (ipykernel)",
   "language": "python",
   "name": "python3"
  },
  "language_info": {
   "codemirror_mode": {
    "name": "ipython",
    "version": 3
   },
   "file_extension": ".py",
   "mimetype": "text/x-python",
   "name": "python",
   "nbconvert_exporter": "python",
   "pygments_lexer": "ipython3",
   "version": "3.12.1"
  }
 },
 "nbformat": 4,
 "nbformat_minor": 5
}
