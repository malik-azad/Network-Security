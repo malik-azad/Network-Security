{
 "cells": [
  {
   "cell_type": "code",
   "execution_count": 1,
   "id": "278d6f78-c155-414f-80e2-29c85b39cd22",
   "metadata": {},
   "outputs": [],
   "source": [
    "def KSA(key):\n",
    "    key_length = len(key)\n",
    "    S = list(range(256))\n",
    "    j = 0\n",
    "    for i in range(256):\n",
    "        j = (j + S[i] + key[i % key_length]) % 256\n",
    "        S[i], S[j] = S[j], S[i]  # ye swap karega\n",
    "    return S"
   ]
  },
  {
   "cell_type": "code",
   "execution_count": 2,
   "id": "3ad2bcfd-66c9-4ca8-9042-cc7e9c687ee9",
   "metadata": {},
   "outputs": [],
   "source": [
    "def PRGA(S, data_length):\n",
    "    i = 0\n",
    "    j = 0\n",
    "    keystream = []\n",
    "    \n",
    "    for _ in range(data_length):\n",
    "        i = (i + 1) % 256\n",
    "        j = (j + S[i]) % 256\n",
    "        S[i], S[j] = S[j], S[i]  # swap\n",
    "        keystream.append(S[(S[i] + S[j]) % 256])\n",
    "    return keystream"
   ]
  },
  {
   "cell_type": "code",
   "execution_count": 2,
   "id": "f706754c-338f-4edd-8f4f-71a08c6af068",
   "metadata": {},
   "outputs": [],
   "source": [
    "def RC4(key, data_length):\n",
    "    S = KSA(key)\n",
    "    return PRGA(S, data_length)"
   ]
  },
  {
   "cell_type": "code",
   "execution_count": 4,
   "id": "4bbfad38-a1c5-41bb-9394-4808f6c390df",
   "metadata": {},
   "outputs": [],
   "source": [
    "\n",
    "def encrypt(data, key):\n",
    "    data_length = len(data)\n",
    "    keystream = RC4(key, data_length)\n",
    "    res = []\n",
    "\n",
    "    for i in range(data_length):\n",
    "        # XOR the byte of data with the corresponding byte from the keystream\n",
    "        encrypted_byte = data[i] ^ keystream[i]\n",
    "        res.append(encrypted_byte)\n",
    "\n",
    "    return bytes(res)"
   ]
  },
  {
   "cell_type": "code",
   "execution_count": 5,
   "id": "5384ea35-17dc-40b2-ad5c-f1ca3087067d",
   "metadata": {},
   "outputs": [],
   "source": [
    "def decrypt(data, key):\n",
    "    return encrypt(data, key)  # Since RC4 is symmetric"
   ]
  },
  {
   "cell_type": "code",
   "execution_count": 3,
   "id": "84b447bd-3e71-4943-ae13-472ad253fece",
   "metadata": {},
   "outputs": [
    {
     "ename": "NameError",
     "evalue": "name 'encrypt' is not defined",
     "output_type": "error",
     "traceback": [
      "\u001b[1;31m---------------------------------------------------------------------------\u001b[0m",
      "\u001b[1;31mNameError\u001b[0m                                 Traceback (most recent call last)",
      "Cell \u001b[1;32mIn[3], line 5\u001b[0m\n\u001b[0;32m      2\u001b[0m key \u001b[38;5;241m=\u001b[39m \u001b[38;5;124mb\u001b[39m\u001b[38;5;124m\"\u001b[39m\u001b[38;5;124mKhulJaaSimSim\u001b[39m\u001b[38;5;124m\"\u001b[39m\n\u001b[0;32m      3\u001b[0m data \u001b[38;5;241m=\u001b[39m \u001b[38;5;124mb\u001b[39m\u001b[38;5;124m\"\u001b[39m\u001b[38;5;124mAzad, RC4!\u001b[39m\u001b[38;5;124m\"\u001b[39m\n\u001b[1;32m----> 5\u001b[0m encrypted \u001b[38;5;241m=\u001b[39m \u001b[43mencrypt\u001b[49m(data, key)\n\u001b[0;32m      6\u001b[0m decrypted \u001b[38;5;241m=\u001b[39m decrypt(encrypted, key)\n\u001b[0;32m      8\u001b[0m \u001b[38;5;28mprint\u001b[39m(\u001b[38;5;124m\"\u001b[39m\u001b[38;5;124mOriginal:\u001b[39m\u001b[38;5;124m\"\u001b[39m, data)\n",
      "\u001b[1;31mNameError\u001b[0m: name 'encrypt' is not defined"
     ]
    }
   ],
   "source": [
    "if __name__ == \"__main__\":\n",
    "    key = b\"KhulJaaSimSim\"\n",
    "    data = b\"Azad, RC4!\"\n",
    "    \n",
    "    encrypted = encrypt(data, key)\n",
    "    decrypted = decrypt(encrypted, key)\n",
    "    \n",
    "    print(\"Original:\", data)\n",
    "    print(\"Encrypted:\", encrypted)\n",
    "    print(\"Decrypted:\", decrypted.decode())  # Converts bytes back to a string for readability"
   ]
  },
  {
   "cell_type": "code",
   "execution_count": null,
   "id": "24999a3f-5c48-4e2c-b4fa-29c73217a9f8",
   "metadata": {},
   "outputs": [],
   "source": []
  }
 ],
 "metadata": {
  "kernelspec": {
   "display_name": "Python 3 (ipykernel)",
   "language": "python",
   "name": "python3"
  },
  "language_info": {
   "codemirror_mode": {
    "name": "ipython",
    "version": 3
   },
   "file_extension": ".py",
   "mimetype": "text/x-python",
   "name": "python",
   "nbconvert_exporter": "python",
   "pygments_lexer": "ipython3",
   "version": "3.12.1"
  }
 },
 "nbformat": 4,
 "nbformat_minor": 5
}
